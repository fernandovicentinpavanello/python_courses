{
  "nbformat": 4,
  "nbformat_minor": 0,
  "metadata": {
    "colab": {
      "name": "01 - Programação Python.ipynb",
      "provenance": [],
      "collapsed_sections": [
        "Wq8MRD1u0Gji",
        "r7Zo8Wno3hnS",
        "DMUNzcnZ4RJ8",
        "-8XqiHGkOqsU",
        "ytoorIBsPwLb",
        "cElkK8HnTwRP",
        "enkWSB4vUfly",
        "6l9b9T4UUgch",
        "HLpSSc5dUhM8"
      ]
    },
    "kernelspec": {
      "name": "python3",
      "display_name": "Python 3"
    },
    "language_info": {
      "name": "python"
    }
  },
  "cells": [
    {
      "cell_type": "markdown",
      "source": [
        "## Tipo da informação\n",
        "\n",
        "Na programação, o tipo de dados é um conceito importante. Variáveis podem armazenar dados de diferentes tipos, e diferentes tipos podem fazer coisas diferentes. O Python tem os seguintes tipos de dados integrados por padrão, nestas categorias:\n",
        "\n",
        "1. Text Type: str\n",
        "2. Numeric Types: int, float, complex\n",
        "3. Sequence Types: list, tuple, range\n",
        "4. Mapping Type: dict\n",
        "5. Set Types: set, forzenset\n",
        "6. Boolena Type: bool\n",
        "7. Binary Types: bytes, bytearray, memoryview"
      ],
      "metadata": {
        "id": "Wq8MRD1u0Gji"
      }
    },
    {
      "cell_type": "code",
      "execution_count": null,
      "metadata": {
        "colab": {
          "base_uri": "https://localhost:8080/"
        },
        "id": "21fgH6qYxaes",
        "outputId": "f9ca3324-e2bf-4f42-e93a-4f138f5a780d"
      },
      "outputs": [
        {
          "output_type": "stream",
          "name": "stdout",
          "text": [
            "<class 'str'>\n",
            "<class 'int'>\n",
            "<class 'float'>\n",
            "<class 'complex'>\n",
            "<class 'list'>\n",
            "<class 'tuple'>\n",
            "<class 'range'>\n",
            "<class 'dict'>\n",
            "<class 'set'>\n",
            "<class 'frozenset'>\n",
            "<class 'bool'>\n",
            "<class 'bytes'>\n",
            "<class 'bytearray'>\n",
            "<class 'memoryview'>\n",
            "<class 'datetime.date'>\n"
          ]
        }
      ],
      "source": [
        "# Criando tipos de informações\n",
        "String = str('Olá Mundo!')\n",
        "Inteiro = int(10)\n",
        "Flutuante = float(10.99)\n",
        "Complex = complex(1j)\n",
        "Lista = list( ('Maça', 'Morango', 'Pera') )\n",
        "Tupla = tuple( ('Maça', 'Morango', 'Pera') )\n",
        "Range = range(6)\n",
        "Dicionario = dict(nome='Odemir', age=29)\n",
        "Set = set( ('Maça', 'Morango', 'Pera') )\n",
        "Fronzet = frozenset( ('Maça', 'Morango', 'Pera') )\n",
        "Boleano = bool(5)\n",
        "Bytes = bytes(5)\n",
        "ByteArray = bytearray(5)\n",
        "Memoryview = memoryview( bytes(5) )\n",
        "\n",
        "from datetime import datetime\n",
        "Data = datetime.today().date()\n",
        "\n",
        "# Mostrando os Valores\n",
        "print( type(String) )\n",
        "print( type(Inteiro) )\n",
        "print( type(Flutuante) )\n",
        "print( type(Complex) )\n",
        "print( type(Lista) )\n",
        "print( type(Tupla) )\n",
        "print( type(Range) )\n",
        "print( type(Dicionario) )\n",
        "print( type(Set) )\n",
        "print( type(Fronzet) )\n",
        "print( type(Boleano) )\n",
        "print( type(Bytes) )\n",
        "print( type(ByteArray) )\n",
        "print( type(Memoryview) )\n",
        "print( type(Data) )"
      ]
    },
    {
      "cell_type": "markdown",
      "source": [
        "## Comando Round\n",
        "\n",
        "Quando trabalhamos com números flutuantes, podemos arredondar o valor usando um comando do Python.\n",
        " \n",
        "round(valor, número de casas)"
      ],
      "metadata": {
        "id": "r7Zo8Wno3hnS"
      }
    },
    {
      "cell_type": "code",
      "source": [
        "# Comando Round\n",
        "# Método round, arrendo valores\n",
        "\n",
        "valor_Exemplo = 12.123456789\n",
        "\n",
        "print(round(valor_Exemplo))\n",
        "print(round(valor_Exemplo, 1))\n",
        "print(round(valor_Exemplo, 2))\n",
        "print(round(valor_Exemplo, 3))\n",
        "print(round(valor_Exemplo, 5))\n",
        "print(round(valor_Exemplo, 7))"
      ],
      "metadata": {
        "colab": {
          "base_uri": "https://localhost:8080/"
        },
        "id": "mc8R0x-X3xoj",
        "outputId": "6a3ee466-42c1-4317-cf41-2d5d407b64f6"
      },
      "execution_count": null,
      "outputs": [
        {
          "output_type": "stream",
          "name": "stdout",
          "text": [
            "12\n",
            "12.1\n",
            "12.12\n",
            "12.123\n",
            "12.12346\n",
            "12.1234568\n"
          ]
        }
      ]
    },
    {
      "cell_type": "markdown",
      "source": [
        "## Comando Len\n",
        "\n",
        "A função len() retorna a quantidade de elementos de qualquer lista em Python, essa é mais uma função built-in e disponível em qualquer parte dos nossos códigos."
      ],
      "metadata": {
        "id": "DMUNzcnZ4RJ8"
      }
    },
    {
      "cell_type": "code",
      "source": [
        "Lista = [1, 2, 3, 4, 5]\n",
        "Dicionario = { 'Nome':'Fernando', 'Idade':36, 'Vip':True }\n",
        "Tupla = (15, 25)\n",
        "String = 'Olá Pythonista!'\n",
        "\n",
        "print( len(Lista) )\n",
        "print( len(Dicionario) )\n",
        "print( len(Tupla) )\n",
        "print( len(String) )"
      ],
      "metadata": {
        "colab": {
          "base_uri": "https://localhost:8080/"
        },
        "id": "20yJXlLc4U9K",
        "outputId": "c96b4b89-9d86-4aa7-c2a0-257e733e4619"
      },
      "execution_count": null,
      "outputs": [
        {
          "output_type": "stream",
          "name": "stdout",
          "text": [
            "5\n",
            "3\n",
            "2\n",
            "15\n"
          ]
        }
      ]
    },
    {
      "cell_type": "markdown",
      "source": [
        "## Fatiamento de Strings\n",
        "\n",
        "Strings são listas de bytes representando caracteres.\n",
        "\n",
        "Podemos acessar suas posições usando Colchetes e : (dois pontos).\n",
        "\n",
        "String[Posição Inicial : Posição Final]"
      ],
      "metadata": {
        "id": "-8XqiHGkOqsU"
      }
    },
    {
      "cell_type": "code",
      "source": [
        "# Strings\n",
        "minha_string = \"Aprender Python é Top!\"\n",
        "print(type(minha_string))\n",
        "print(len(minha_string))\n",
        "\n",
        "print(minha_string[0])\n",
        "print(minha_string[5])\n",
        "print(minha_string[-1]) # o -1 nos mostra a última posição\n",
        "print(minha_string[-10:])\n",
        "print(minha_string[1:10])"
      ],
      "metadata": {
        "colab": {
          "base_uri": "https://localhost:8080/"
        },
        "id": "v66dEA3ZPJce",
        "outputId": "0932fb57-9d0c-4225-f1b9-81574b9080c0"
      },
      "execution_count": 1,
      "outputs": [
        {
          "output_type": "stream",
          "name": "stdout",
          "text": [
            "<class 'str'>\n",
            "22\n",
            "A\n",
            "d\n",
            "!\n",
            "hon é Top!\n",
            "prender P\n"
          ]
        }
      ]
    },
    {
      "cell_type": "markdown",
      "source": [
        "## Manipulação de Strings\n",
        "\n",
        "Um tipo de dado bastante usado no dia a dia são as strings, ou cadeias de caracteres. O tipo de dados string, ou str como é chamado em Python, possui várias operações úteis associadas a ele. Essas operações tornam Python uma linguagem bastante propícia para manipulação de textos. Algumas funções mais utilizadas:\n",
        "\n",
        "1. replace()\n",
        "2. startswith()\n",
        "3. endswith()\n",
        "4. count()\n",
        "5. capitalize()\n",
        "6. isdigit()\n",
        "7. isalnum()\n",
        "8. upper()\n",
        "9. lower()\n",
        "10. find()\n",
        "11. strip()\n",
        "12. split() "
      ],
      "metadata": {
        "id": "ytoorIBsPwLb"
      }
    },
    {
      "cell_type": "code",
      "source": [
        "# Imprimindo uma str\n",
        "string = \"Hello World!\"\n",
        "print(string)\n",
        "\n",
        "# Tipo de uma str\n",
        "print(type(string))\n",
        "\n",
        "# Tamanho de uma str\n",
        "print(len(string))\n",
        "\n",
        "# Concatenação\n",
        "print(string + ' Estou aprendendo Python...')\n",
        "\n",
        "# Substitui uma substring por alguma outra coisa.\n",
        "substituir = string.replace('World', 'Mundão')\n",
        "print(substituir)\n",
        "\n",
        "# A string começa com \"Olá\"?\n",
        "print(string.startswith('Hello'))\n",
        "\n",
        "# A string termina com \"mundo\"?\n",
        "print(string.endswith('mundo'))\n",
        "\n",
        "# Quantas ocorrências da palavra 'a' a string possui?\n",
        "print(string.count('M'))\n",
        "\n",
        "# Capitalize - Transformar a primeira letra da primeira palavra em maiúscula.\n",
        "string_02 = 'fernando'\n",
        "print(string_02.capitalize())\n",
        "\n",
        "# Verificar se a str só possui números.\n",
        "string_03 = '1234567890'\n",
        "string_04 = '1234567890ABC'\n",
        "print(string_03.isdigit())\n",
        "print(string_04.isdigit())\n",
        "\n",
        "# Verificar se uma string é alfanumérica\n",
        "print('12345abc'.isalnum())\n",
        "\n",
        "# Transformar tudo em Maiusculo\n",
        "print(string.upper())\n",
        "\n",
        "# Transformar tudo em Minúsculo\n",
        "print(string.lower())\n",
        "\n",
        "# Procurar algo na string\n",
        "print(string.find('!'))\n",
        "\n",
        "# Removendo espaços antes e fim da palavra\n",
        "string_05 = ' Hello World! '\n",
        "print(string_05.strip())\n",
        "\n",
        "# Removendo espaços antes e fim da palavra\n",
        "string_06 = 'Loja 1 vendeu 10, Loja 2 vendeu 20, Loja 3 vendeu 30 '\n",
        "print(string_06.split(','))"
      ],
      "metadata": {
        "colab": {
          "base_uri": "https://localhost:8080/"
        },
        "id": "mWHASoCXPhED",
        "outputId": "d7c7e570-8e77-4cb3-d998-b57739593c8a"
      },
      "execution_count": 4,
      "outputs": [
        {
          "output_type": "stream",
          "name": "stdout",
          "text": [
            "Hello World!\n",
            "<class 'str'>\n",
            "12\n",
            "Hello World! Estou aprendendo Python...\n",
            "Hello Mundão!\n",
            "True\n",
            "False\n",
            "0\n",
            "Fernando\n",
            "True\n",
            "False\n",
            "True\n",
            "HELLO WORLD!\n",
            "hello world!\n",
            "11\n",
            "Hello World!\n",
            "['Loja 1 vendeu 10', ' Loja 2 vendeu 20', ' Loja 3 vendeu 30 ']\n"
          ]
        }
      ]
    },
    {
      "cell_type": "markdown",
      "source": [
        "## Comando Input\n",
        "\n",
        "A função input() recebe como parâmetro uma string que será mostrada como auxílio ao usuário, geralmente o informando que tipo de dado o programa está aguardando receber.\n",
        "\n",
        "input()"
      ],
      "metadata": {
        "id": "cElkK8HnTwRP"
      }
    },
    {
      "cell_type": "code",
      "source": [
        "# Comnando input\n",
        "# Enviar uma informação momentânea\n",
        "\n",
        "name = input('Qual é o seu nome? ')\n",
        "age = input('Quantos anos você tem? ')\n",
        "\n",
        "print('Seu nome é', name, 'e você tem', age, 'anos.')"
      ],
      "metadata": {
        "id": "eGOvhmKQTMCA"
      },
      "execution_count": null,
      "outputs": []
    },
    {
      "cell_type": "markdown",
      "source": [
        "## Operadores de Identidade\n",
        "\n",
        "Os operadores de identidade são usados ​​para comparar os objetos, não se forem iguais, mas se forem realmente o mesmo objeto, com a mesma localização de memória:\n",
        "\n",
        "1. is (Retorna True se ambas as variáveis ​​forem o mesmo objeto)\n",
        "2. is not (Retorna True se ambas as variáveis ​​não forem o mesmo objeto)\n"
      ],
      "metadata": {
        "id": "enkWSB4vUfly"
      }
    },
    {
      "cell_type": "code",
      "source": [
        "string_01 = str('Olá Mundão')\n",
        "string_02 = str('Olá Mundão')\n",
        "\n",
        "print(string_01 is string_01)\n",
        "print(string_01 is string_02 )\n",
        "print(string_01 == string_02)\n",
        "print(type(string_01) is type(string_02))"
      ],
      "metadata": {
        "colab": {
          "base_uri": "https://localhost:8080/"
        },
        "id": "-OkyxLITUb4g",
        "outputId": "4e2062ef-9c0d-4035-e7f7-aba0f1c90cd3"
      },
      "execution_count": 9,
      "outputs": [
        {
          "output_type": "stream",
          "name": "stdout",
          "text": [
            "True\n",
            "False\n",
            "True\n",
            "True\n"
          ]
        }
      ]
    },
    {
      "cell_type": "markdown",
      "source": [
        "## Operadores de Associação\n",
        "\n",
        "Os operadores de associação são usados ​​para testar se uma sequência é apresentada em um objeto:\n",
        "\n",
        "1. in (Retorna True se uma sequência com o valor especificado estiver presente no objeto)\n",
        "2. not in (Retorna True se uma sequência com o valor especificado não estiver presente no objeto)\n"
      ],
      "metadata": {
        "id": "6l9b9T4UUgch"
      }
    },
    {
      "cell_type": "code",
      "source": [
        "lista_acoes = ['Magalu', 'Via', 'Assai', 'Carrefour']\n",
        "\n",
        "print('Via' in lista_acoes)\n",
        "print('Via' not in lista_acoes)"
      ],
      "metadata": {
        "colab": {
          "base_uri": "https://localhost:8080/"
        },
        "id": "mwUTj5qJUgzI",
        "outputId": "047282e1-198c-46fb-ee3f-358db71402b9"
      },
      "execution_count": 10,
      "outputs": [
        {
          "output_type": "stream",
          "name": "stdout",
          "text": [
            "True\n",
            "False\n"
          ]
        }
      ]
    },
    {
      "cell_type": "markdown",
      "source": [
        "## Manipulando Listas\n",
        "\n",
        "As listas são usadas para armazenar vários itens em uma única variável.\n",
        "\n",
        "As listas são um dos 4 tipos de dados internos do Python usados para armazenar coleções de dados, os outros 3 são Tuple, Set e Dictionary, todos com qualidades e usos diferentes.\n",
        "\n",
        "Comandos mais utilizados:\n",
        "\n",
        "1. append() → Para adicionar um item ao final da lista\n",
        "2. len() → Calcularo tamanho da lista\n",
        "3. [] → Acessar posições\n",
        "4. del() → Excluir um elemento\n",
        "5. clear() → Limpar a lista\n",
        "6. insert() → Para inserir um item de lista em um índice especificado\n",
        "7. extend() → Anexar elementos de outra lista à lista atual\n",
        "8. remove() → Remove o item especificado\n",
        "9. pop() → Remove o índice especificado\n",
        "10. sort() → Ordenar os valores\n",
        "11. copy() → Faz uma cópia da Lista\n",
        "12. index() → Retorna o index do elemento da lista"
      ],
      "metadata": {
        "id": "HLpSSc5dUhM8"
      }
    },
    {
      "cell_type": "code",
      "source": [
        "# Manipulando dados dentro da Lista\n",
        "lista = []\n",
        "print('Início da lista:', lista, '\\n')\n",
        "\n",
        "# Inserindo valores na Lista\n",
        "lista.append(1)\n",
        "lista.append(2)\n",
        "lista.append(3)\n",
        "print(lista, '\\n')\n",
        "\n",
        "# Tamanho da lista\n",
        "print('A lista contém', len(lista), 'elementos.', '\\n')\n",
        "\n",
        "# Acessando elementos da lista\n",
        "print('Acessando o 1º Elemento:', lista[0])\n",
        "print('Acessando o 2º Elemento:', lista[1])\n",
        "print('Acessando o último Elemento:', lista[-1])\n",
        "print('Acessando um periodo:', lista[0:2], '\\n')\n",
        "\n",
        "# Excluindo um valor da lista\n",
        "del lista[1]\n",
        "print('Depois da exclusão:', lista, '\\n')\n",
        "\n",
        "# Limpando a lista\n",
        "print('Depois da Limpeza:', lista.clear(), '\\n')\n",
        "\n",
        "# Inserindo um valor com uma posição\n",
        "lista_inserir = ['Posição 1', 'Posição 2', 'Posição 3']\n",
        "lista.insert(0, 'Posição 4')\n",
        "print(lista_inserir, '\\n')\n",
        "\n",
        "# Inserindo uma lista na outra\n",
        "lista_inserir_01 = ['Posição 1', 'Posição 2', 'Posição 3']\n",
        "lista_inserir_02 = ['Posição 4', 'Posição 5', 'Posição 6']\n",
        "lista_inserir_01.extend( lista_inserir_02)\n",
        "print(lista_inserir_01, '\\n')\n",
        "\n",
        "# Removendo itens especifico pelo nome\n",
        "lista_inserir_01.remove('Posição 6')\n",
        "print(lista_inserir_01, '\\n')\n",
        "\n",
        "# Removendo itens pelo index\n",
        "lista_inserir_01.pop(0)\n",
        "print(lista_inserir_01, '\\n')\n",
        "\n",
        "# Ordenar uma lista\n",
        "lista_alfabetica = ['Z', 'C', 'A', 'B', 'L']\n",
        "lista_alfabetica.sort()\n",
        "print(lista_alfabetica, '\\n')\n",
        "\n",
        "# Ordenar uma lista de forma inversa\n",
        "lista_alfabetica.sort( reverse=True )\n",
        "print(lista_alfabetica, '\\n')\n",
        "\n",
        "# Copiar uma Lista\n",
        "lista_alfabetica_02 = lista_alfabetica.copy()\n",
        "print(lista_alfabetica_02, '\\n')\n",
        "\n",
        "# Indetificar o Index do elemtno na lista\n",
        "print(lista_alfabetica_02.index('L'), '\\n')"
      ],
      "metadata": {
        "colab": {
          "base_uri": "https://localhost:8080/"
        },
        "id": "clvOpU9GUhp0",
        "outputId": "deacae94-80f8-4072-d121-f90cf66ea5a7"
      },
      "execution_count": 11,
      "outputs": [
        {
          "output_type": "stream",
          "name": "stdout",
          "text": [
            "Início da lista: [] \n",
            "\n",
            "[1, 2, 3] \n",
            "\n",
            "A lista contém 3 elementos. \n",
            "\n",
            "Acessando o 1º Elemento: 1\n",
            "Acessando o 2º Elemento: 2\n",
            "Acessando o último Elemento: 3\n",
            "Acessando um periodo: [1, 2] \n",
            "\n",
            "Depois da exclusão: [1, 3] \n",
            "\n",
            "Depois da Limpeza: None \n",
            "\n",
            "['Posição 1', 'Posição 2', 'Posição 3'] \n",
            "\n",
            "['Posição 1', 'Posição 2', 'Posição 3', 'Posição 4', 'Posição 5', 'Posição 6'] \n",
            "\n",
            "['Posição 1', 'Posição 2', 'Posição 3', 'Posição 4', 'Posição 5'] \n",
            "\n",
            "['Posição 2', 'Posição 3', 'Posição 4', 'Posição 5'] \n",
            "\n",
            "['A', 'B', 'C', 'L', 'Z'] \n",
            "\n",
            "['Z', 'L', 'C', 'B', 'A'] \n",
            "\n",
            "['Z', 'L', 'C', 'B', 'A'] \n",
            "\n",
            "1 \n",
            "\n"
          ]
        }
      ]
    },
    {
      "cell_type": "markdown",
      "source": [
        "## Pacote Externo - Datetime\n",
        "\n",
        "O datetime módulo fornece classes para manipulação de datas e horas"
      ],
      "metadata": {
        "id": "8Sv7ViZVZ8Ix"
      }
    },
    {
      "cell_type": "code",
      "source": [
        "import datetime\n",
        "\n",
        "# Dia de Hoje\n",
        "hoje = datetime.datetime.today().date()\n",
        "print(f'Hoje é {hoje}. \\n')\n",
        "\n",
        "# Construindo uma data\n",
        "data_nova = datetime.date(2022, 4, 7)\n",
        "print(f'Hoje não é {data_nova}. \\n')\n",
        "\n",
        "# Acessando os atributos da Data\n",
        "ano = hoje.year\n",
        "mes = hoje.month\n",
        "dia = hoje.day\n",
        "print(f'Hoje é dia {dia} do mês {mes} do ano de {ano}. \\n')\n",
        "\n",
        "# Operação\n",
        "intervalo = hoje - data_nova\n",
        "print(f'Número de dias desde 7/4/2022 até hoje: {intervalo} \\n')\n",
        "\n",
        "# Ajustando o formato\n",
        "formato_br = hoje.strftime('%d/%m/%y')\n",
        "print(f'Hoje é: {formato_br} \\n')\n",
        "\n",
        "# Aumentar dias ou diminuir\n",
        "print(f'Somando 30 dias, {hoje + datetime.timedelta(days = 30)}')\n",
        "print(f'Diminuindo 30 dias, {hoje - datetime.timedelta(days = 30)}')\n"
      ],
      "metadata": {
        "colab": {
          "base_uri": "https://localhost:8080/"
        },
        "id": "GFUtVm6nZ8ol",
        "outputId": "011b04ab-e972-45cd-86a6-15a0dcabf5c7"
      },
      "execution_count": 23,
      "outputs": [
        {
          "output_type": "stream",
          "name": "stdout",
          "text": [
            "Hoje é 2022-06-01. \n",
            "\n",
            "Hoje não é 2022-04-07. \n",
            "\n",
            "Hoje é dia 1 do mês 6 do ano de 2022. \n",
            "\n",
            "Número de dias desde 7/4/2022 até hoje: 55 days, 0:00:00 \n",
            "\n",
            "Hoje é: 01/06/22 \n",
            "\n",
            "Somando 30 dias, 2022-07-01\n",
            "Diminuindo 30 dias, 2022-05-02\n"
          ]
        }
      ]
    },
    {
      "cell_type": "markdown",
      "source": [
        "## Pacote Externo - Statistics\n",
        "\n",
        "Este módulo fornece funções para calcular estatísticas matemáticas de dados numéricos e interage com as listas"
      ],
      "metadata": {
        "id": "-dSgMeLLZ9Kc"
      }
    },
    {
      "cell_type": "code",
      "source": [
        "import statistics\n",
        "\n",
        "media = statistics.mean([1, 2, 3, 4, 5, 5])\n",
        "print(f'A média é: {media} \\n')\n",
        "\n",
        "mediana = statistics.median([1, 2, 3, 4, 5, 5])\n",
        "print(f'A mediana é: {mediana} \\n')\n",
        "\n",
        "moda = statistics.mode([1, 2, 3, 4, 5, 5])\n",
        "print(f'A moda é: {moda} \\n')"
      ],
      "metadata": {
        "colab": {
          "base_uri": "https://localhost:8080/"
        },
        "id": "5WxZjKZpfqg9",
        "outputId": "684ebd20-acba-4400-f8f5-b8104ccb3ed1"
      },
      "execution_count": 28,
      "outputs": [
        {
          "output_type": "stream",
          "name": "stdout",
          "text": [
            "A média é: 3.3333333333333335 \n",
            "\n",
            "A mediana é: 3.5 \n",
            "\n",
            "A moda é: 5 \n",
            "\n"
          ]
        }
      ]
    }
  ]
}